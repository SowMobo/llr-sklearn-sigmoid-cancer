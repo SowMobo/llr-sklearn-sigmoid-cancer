{
 "cells": [
  {
   "cell_type": "markdown",
   "metadata": {},
   "source": [
    "# Logistic regression with sklearn.linear_model"
   ]
  },
  {
   "cell_type": "markdown",
   "metadata": {},
   "source": [
    "# Dependencies"
   ]
  },
  {
   "cell_type": "code",
   "execution_count": 3,
   "metadata": {},
   "outputs": [],
   "source": [
    "from sklearn.linear_model import LogisticRegression\n",
    "import numpy as np"
   ]
  },
  {
   "cell_type": "markdown",
   "metadata": {},
   "source": [
    "# Datasets (#cigarettes, cancer)"
   ]
  },
  {
   "cell_type": "code",
   "execution_count": 4,
   "metadata": {},
   "outputs": [],
   "source": [
    "data = [[0, \"No\"],\n",
    "        [10, \"No\"],\n",
    "        [60, \"Yes\"],\n",
    "        [90, \"Yes\"]]"
   ]
  },
  {
   "cell_type": "code",
   "execution_count": 5,
   "metadata": {},
   "outputs": [],
   "source": [
    "X = np.array(data)"
   ]
  },
  {
   "cell_type": "markdown",
   "metadata": {},
   "source": [
    "# One-liner-Training"
   ]
  },
  {
   "cell_type": "code",
   "execution_count": 13,
   "metadata": {},
   "outputs": [
    {
     "data": {
      "text/plain": [
       "array([['0', '10'],\n",
       "       ['60', '90']], dtype='<U21')"
      ]
     },
     "execution_count": 13,
     "metadata": {},
     "output_type": "execute_result"
    }
   ],
   "source": [
    "X[:,0].reshape(-1,2)\n"
   ]
  },
  {
   "cell_type": "code",
   "execution_count": 8,
   "metadata": {},
   "outputs": [],
   "source": [
    "model = LogisticRegression().fit(X[:,0].reshape(-1,1), X[:,-1])"
   ]
  },
  {
   "cell_type": "markdown",
   "metadata": {},
   "source": [
    "# Tests & Results"
   ]
  },
  {
   "cell_type": "code",
   "execution_count": 7,
   "metadata": {},
   "outputs": [
    {
     "name": "stdout",
     "output_type": "stream",
     "text": [
      "['No' 'No' 'No' 'Yes' 'Yes']\n"
     ]
    }
   ],
   "source": [
    "print(model.predict([[2], [12], [13], [40], [90]]))"
   ]
  },
  {
   "cell_type": "markdown",
   "metadata": {},
   "source": [
    "# Let take inside the probability of the sigmoid fuction that lead to this prediction"
   ]
  },
  {
   "cell_type": "code",
   "execution_count": 16,
   "metadata": {},
   "outputs": [
    {
     "name": "stdout",
     "output_type": "stream",
     "text": [
      "x = 0---> [[9.99568507e-01 4.31492826e-04]]\n",
      "x = 20---> [[0.96611811 0.03388189]]\n",
      "x = 40---> [[0.25979831 0.74020169]]\n",
      "x = 60---> [[0.00430168 0.99569832]]\n",
      "x = 80---> [[5.31753572e-05 9.99946825e-01]]\n",
      "x = 100---> [[6.54571146e-07 9.99999345e-01]]\n",
      "x = 120---> [[8.05713729e-09 9.99999992e-01]]\n",
      "x = 140---> [[9.91755567e-11 1.00000000e+00]]\n",
      "x = 160---> [[1.22080124e-12 1.00000000e+00]]\n",
      "x = 180---> [[1.50990331e-14 1.00000000e+00]]\n"
     ]
    }
   ],
   "source": [
    "for i in range(0, 200, 20):\n",
    "    print(\"x = \" + str(i) + \"---> \" + str(model.predict_proba([[i]])))"
   ]
  },
  {
   "cell_type": "code",
   "execution_count": null,
   "metadata": {},
   "outputs": [],
   "source": []
  }
 ],
 "metadata": {
  "interpreter": {
   "hash": "a234cd92282937bfde3d049779b2c511fcde00952bcb38c44c683f51aa899b6e"
  },
  "kernelspec": {
   "display_name": "Python 3.9.7 64-bit ('llr_cancer': conda)",
   "language": "python",
   "name": "python3"
  },
  "language_info": {
   "codemirror_mode": {
    "name": "ipython",
    "version": 3
   },
   "file_extension": ".py",
   "mimetype": "text/x-python",
   "name": "python",
   "nbconvert_exporter": "python",
   "pygments_lexer": "ipython3",
   "version": "3.9.7"
  },
  "orig_nbformat": 4
 },
 "nbformat": 4,
 "nbformat_minor": 2
}
