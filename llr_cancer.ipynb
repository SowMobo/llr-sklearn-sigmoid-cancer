{
 "cells": [
  {
   "cell_type": "code",
   "execution_count": null,
   "metadata": {},
   "outputs": [],
   "source": []
  }
 ],
 "metadata": {
  "interpreter": {
   "hash": "a234cd92282937bfde3d049779b2c511fcde00952bcb38c44c683f51aa899b6e"
  },
  "kernelspec": {
   "display_name": "Python 3.9.7 64-bit ('llr_cancer': conda)",
   "language": "python",
   "name": "python3"
  },
  "language_info": {
   "name": "python",
   "version": "3.9.7"
  },
  "orig_nbformat": 4
 },
 "nbformat": 4,
 "nbformat_minor": 2
}
